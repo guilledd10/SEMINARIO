{
  "nbformat": 4,
  "nbformat_minor": 0,
  "metadata": {
    "colab": {
      "provenance": [],
      "include_colab_link": true
    },
    "kernelspec": {
      "name": "python3",
      "display_name": "Python 3"
    }
  },
  "cells": [
    {
      "cell_type": "markdown",
      "metadata": {
        "id": "view-in-github",
        "colab_type": "text"
      },
      "source": [
        "<a href=\"https://colab.research.google.com/github/guilledd10/SEMINARIO/blob/main/Seminario_Algoritmos.ipynb\" target=\"_parent\"><img src=\"https://colab.research.google.com/assets/colab-badge.svg\" alt=\"Open In Colab\"/></a>"
      ]
    },
    {
      "cell_type": "markdown",
      "metadata": {
        "id": "hVbXYX-RfPWh"
      },
      "source": [
        "# Algoritmos de optimización - Seminario<br>\n",
        "Nombre y Apellidos:   Guillermo Dávila Duarte\n",
        "Url: https://github.com/guilledd10/SEMINARIO/blob/main/Seminario_Algoritmos.ipynb<br>\n",
        "Problema:\n",
        ">3. Combinar cifras y operaciones\n",
        "\n",
        "Descripción del problema:\n",
        "\n",
        "\n",
        "\n",
        "*   El problema consiste en analizar el siguiente problema y diseñar un algoritmo que lo resuelva.\n",
        "*   Disponemos de las 9 cifras del 1 al 9 (excluimos el cero) y de los 4 signos básicos de las operaciones fundamentales: suma(+), resta(-), multiplicación(*) y división(/)\n",
        "*   Debemos combinarlos alternativamente sin repetir ninguno de ellos para obtener una cantidad dada. Un ejemplo sería para obtener el 4: 4+2-6/3*1 = 4\n",
        "\n",
        "\n",
        "*   Debe analizarse el problema para encontrar todos los valores enteros posibles planteando las\n",
        "siguientes cuestiones:\n",
        "1.   ¿Qué valor máximo y mínimo se pueden obtener según las condiciones del problema?\n",
        "2.   Elemento de lista\n",
        "\n",
        "\n",
        "\n",
        "*   Nota: Es posible usar la función de python “eval” para evaluar una expresión:"
      ]
    },
    {
      "cell_type": "code",
      "metadata": {
        "id": "AiskKkzZfy4e",
        "colab": {
          "base_uri": "https://localhost:8080/"
        },
        "outputId": "7d664688-9eee-4fbe-c34c-8c6e2199c9db"
      },
      "source": [
        "expresion = \"4+2-6/3*1\"\n",
        "print(eval(expresion))"
      ],
      "execution_count": 1,
      "outputs": [
        {
          "output_type": "stream",
          "name": "stdout",
          "text": [
            "4.0\n"
          ]
        }
      ]
    },
    {
      "cell_type": "markdown",
      "metadata": {
        "id": "3_-exlrTgLd-"
      },
      "source": [
        "(*)¿Cuantas posibilidades hay sin tener en cuenta las restricciones?<br>\n",
        "\n",
        "\n",
        "\n",
        "¿Cuantas posibilidades hay teniendo en cuenta todas las restricciones.\n",
        "\n",
        "\n"
      ]
    },
    {
      "cell_type": "markdown",
      "metadata": {
        "id": "WfCUqJyKhPcw"
      },
      "source": [
        "Respuesta"
      ]
    },
    {
      "cell_type": "markdown",
      "source": [
        "*   Número de combinaciones sin restriciones:\n",
        "1.   5 posiciones de dígitos (con repetición): 9^5\n",
        "2.   4 posiciones de operadores (con repetición): 4^4\n",
        "Total:"
      ],
      "metadata": {
        "id": "Yd01ppYSoa35"
      }
    },
    {
      "cell_type": "code",
      "metadata": {
        "id": "iq6Fe32MgpDX",
        "colab": {
          "base_uri": "https://localhost:8080/"
        },
        "outputId": "eb60f563-65d1-41ab-e15f-f1b995396700"
      },
      "source": [
        "9 ** 5 * 4 ** 4"
      ],
      "execution_count": 2,
      "outputs": [
        {
          "output_type": "execute_result",
          "data": {
            "text/plain": [
              "15116544"
            ]
          },
          "metadata": {},
          "execution_count": 2
        }
      ]
    },
    {
      "cell_type": "markdown",
      "source": [
        "*   Número de combinaciones con restriciones:\n",
        "\n",
        "\n",
        "1.   Permutaciones de 5 dígitos distintos de 9: P(9,5) = 9 * 8 * 7 * 6 * 5\n",
        "2.   Permutaciones de los 4 operadores: 4!\n",
        "\n",
        "Total:"
      ],
      "metadata": {
        "id": "w5vAlL3XnLfu"
      }
    },
    {
      "cell_type": "code",
      "source": [
        "import math\n",
        "9 * 8 * 7 * 6 * 5 * math.factorial(4)"
      ],
      "metadata": {
        "colab": {
          "base_uri": "https://localhost:8080/"
        },
        "id": "46sN_Oafn2w0",
        "outputId": "43d5f231-00ed-4cb5-befa-744f1659bbd8"
      },
      "execution_count": 3,
      "outputs": [
        {
          "output_type": "execute_result",
          "data": {
            "text/plain": [
              "362880"
            ]
          },
          "metadata": {},
          "execution_count": 3
        }
      ]
    },
    {
      "cell_type": "markdown",
      "metadata": {
        "id": "dzynfVJahHoY"
      },
      "source": [
        "Modelo para el espacio de soluciones<br>\n",
        "(*) ¿Cual es la estructura de datos que mejor se adapta al problema? Argumentalo.(Es posible que hayas elegido una al principio y veas la necesidad de cambiar, arguentalo)\n"
      ]
    },
    {
      "cell_type": "markdown",
      "metadata": {
        "id": "xFIJrOwKi2Ti"
      },
      "source": [
        "Respuesta"
      ]
    },
    {
      "cell_type": "markdown",
      "source": [
        "*   itertools.permutations para generar digitos y operadores sin restriciones.\n",
        "*   set() para almacenar resultados únicos de enteros.\n",
        "*   dict() opcional para mapear valor"
      ],
      "metadata": {
        "id": "h9Eeh4TVo-77"
      }
    },
    {
      "cell_type": "markdown",
      "metadata": {
        "id": "7Z9U2W7bi-XS"
      },
      "source": [
        "Según el modelo para el espacio de soluciones<br>\n",
        "(*)¿Cual es la función objetivo?\n",
        "\n",
        "(*)¿Es un problema de maximización o minimización?"
      ]
    },
    {
      "cell_type": "markdown",
      "metadata": {
        "id": "hBalWLM7j1_d"
      },
      "source": [
        "Respuesta"
      ]
    },
    {
      "cell_type": "markdown",
      "source": [
        "\n",
        "\n",
        "*   Para la pregunta de buscar extremos debemos maximizar y minimizar el valor de la expresión, según estemos buscando un máximo o un mínimo.\n",
        "*  En el caso de alcanzar un número objetivo T: hay que minimizar |resultado - T|\n",
        "\n"
      ],
      "metadata": {
        "id": "9na22Brqpbjl"
      }
    },
    {
      "cell_type": "markdown",
      "metadata": {
        "id": "rlnTYgY1j6I2"
      },
      "source": [
        "Diseña un algoritmo para resolver el problema por fuerza bruta"
      ]
    },
    {
      "cell_type": "markdown",
      "metadata": {
        "id": "70rDgxYXkC8r"
      },
      "source": [
        "Respuesta"
      ]
    },
    {
      "cell_type": "markdown",
      "source": [
        "Este algoritmo genera todas las expresiones posibles y evalúa cada una usando **eval**. Se filtran los resultados que sean enteros."
      ],
      "metadata": {
        "id": "r__6HW5yp5Yj"
      }
    },
    {
      "cell_type": "code",
      "metadata": {
        "id": "CJb5sQ0qkENy"
      },
      "source": [
        "import itertools\n",
        "from math import isclose\n",
        "\n",
        "def fuerza_bruta():\n",
        "    digits = list(range(1, 10))\n",
        "    ops = ['+', '-', '*', '/']\n",
        "    resultados = set()\n",
        "    exprs = {}\n",
        "\n",
        "    for nums in itertools.permutations(digits, 5):\n",
        "        for ops_order in itertools.permutations(ops):\n",
        "            expr = \"\".join(str(nums[i]) + ops_order[i] for i in range(4)) + str(nums[4])\n",
        "            try:\n",
        "                val = eval(expr)\n",
        "                if isclose(val, round(val), abs_tol=1e-9):\n",
        "                    ival = int(round(val))\n",
        "                    resultados.add(ival)\n",
        "                    exprs.setdefault(ival, expr)\n",
        "            except ZeroDivisionError:\n",
        "                continue\n",
        "    return resultados, exprs"
      ],
      "execution_count": 4,
      "outputs": []
    },
    {
      "cell_type": "markdown",
      "metadata": {
        "id": "tgrnsC2nkFa8"
      },
      "source": [
        "Calcula la complejidad del algoritmo por fuerza bruta"
      ]
    },
    {
      "cell_type": "markdown",
      "metadata": {
        "id": "9eUd3xwckP68"
      },
      "source": [
        "Respuesta"
      ]
    },
    {
      "cell_type": "markdown",
      "source": [
        "Es el orden que se ha visto antes en las posibilidades con restricciones: **O(362.880)**"
      ],
      "metadata": {
        "id": "6cthU62pq3kD"
      }
    },
    {
      "cell_type": "markdown",
      "metadata": {
        "id": "txbrmLmskReM"
      },
      "source": [
        "(*)Diseña un algoritmo que mejore la complejidad del algortimo por fuerza bruta. Argumenta porque crees que mejora el algoritmo por fuerza bruta"
      ]
    },
    {
      "cell_type": "markdown",
      "metadata": {
        "id": "hLrVwt5QkZPD"
      },
      "source": [
        "Respuesta"
      ]
    },
    {
      "cell_type": "markdown",
      "source": [
        "El algoritmo seleccionado es con poda (backtracking), en este caso evita las ramas que dan resultados no válidos, por ejemplo aquellos resultados en los que se detecta división no exacta o valores fuera de un rango normal."
      ],
      "metadata": {
        "id": "sUnyzEy8rUTk"
      }
    },
    {
      "cell_type": "code",
      "metadata": {
        "id": "m1eyM21Vkabg"
      },
      "source": [
        "def optimizado_poda():\n",
        "    digits = list(range(1, 10))\n",
        "    ops = ['+', '-', '*', '/']\n",
        "    resultados = set()\n",
        "\n",
        "    def backtrack(nums_rest, ops_rest, expr):\n",
        "        if not nums_rest and not ops_rest:\n",
        "            try:\n",
        "                val = eval(expr)\n",
        "                if isclose(val, round(val), abs_tol=1e-9):\n",
        "                    resultados.add(int(round(val)))\n",
        "            except ZeroDivisionError:\n",
        "                return\n",
        "            return\n",
        "\n",
        "        for i, d in enumerate(nums_rest):\n",
        "            for j, op in enumerate(ops_rest):\n",
        "                new_expr = expr + op + str(d)\n",
        "                try:\n",
        "                    val = eval(new_expr)\n",
        "                except ZeroDivisionError:\n",
        "                    continue\n",
        "                if abs(val) > 1000:  # poda simple\n",
        "                    continue\n",
        "                backtrack(\n",
        "                    nums_rest[:i] + nums_rest[i+1:],\n",
        "                    ops_rest[:j] + ops_rest[j+1:],\n",
        "                    new_expr\n",
        "                )\n",
        "\n",
        "    for i, d in enumerate(digits):\n",
        "        backtrack(digits[:i] + digits[i+1:], ops, str(d))\n",
        "\n",
        "    return resultados"
      ],
      "execution_count": 5,
      "outputs": []
    },
    {
      "cell_type": "markdown",
      "metadata": {
        "id": "eGDB4K6uk1iN"
      },
      "source": [
        "(*)Calcula la complejidad del algoritmo"
      ]
    },
    {
      "cell_type": "markdown",
      "metadata": {
        "id": "NhpTh_BPk1ms"
      },
      "source": [
        "Respuesta"
      ]
    },
    {
      "cell_type": "markdown",
      "source": [
        "La complejidad depende de las operaciones y números, pudiendo ser el peor caso teórico el del algoritmo por fuerza voraz."
      ],
      "metadata": {
        "id": "Qe7iJ4KSx6r9"
      }
    },
    {
      "cell_type": "markdown",
      "metadata": {
        "id": "3M6QjTsSkmYe"
      },
      "source": [
        "Según el problema (y tenga sentido), diseña un juego de datos de entrada aleatorios"
      ]
    },
    {
      "cell_type": "markdown",
      "metadata": {
        "id": "Jc3_OlyNkvjZ"
      },
      "source": [
        "Respuesta"
      ]
    },
    {
      "cell_type": "code",
      "metadata": {
        "id": "sJ-N2etjkyWc"
      },
      "source": [],
      "execution_count": 5,
      "outputs": []
    },
    {
      "cell_type": "markdown",
      "metadata": {
        "id": "zy5ZROmjlGo1"
      },
      "source": [
        "Aplica el algoritmo al juego de datos generado"
      ]
    },
    {
      "cell_type": "markdown",
      "metadata": {
        "id": "_Cmj-PVylMsa"
      },
      "source": [
        "Respuesta"
      ]
    },
    {
      "cell_type": "code",
      "metadata": {
        "id": "Jkx8GeiYlUz1",
        "colab": {
          "base_uri": "https://localhost:8080/"
        },
        "outputId": "ee2df5f7-c0e2-4598-e2e0-f679013f0d52"
      },
      "source": [
        "# Ejecutar fuerza bruta\n",
        "res, exprs = fuerza_bruta()\n",
        "\n",
        "# Mostrar dos expresiones ejemplo\n",
        "import random\n",
        "ejemplos = random.sample(list(exprs.items()), 2)\n",
        "for val, ex in ejemplos:\n",
        "    print(f\"Ejemplo: {ex} = {val}\")\n",
        "\n",
        "# Comprobar el ejemplo dado en el enunciado\n",
        "ejemplo_expr = \"4+2-6/3*1\"\n",
        "print(\"Expresión ejemplo:\", ejemplo_expr, \"Resultado:\", eval(ejemplo_expr))\n",
        "\n",
        "# Métricas finales\n",
        "min_val, max_val = min(res), max(res)\n",
        "cobertura = all(v in res for v in range(min_val, max_val+1))\n",
        "print(\"Valor mínimo:\", min_val, \"Valor máximo:\", max_val, \"Cobertura total:\", cobertura)"
      ],
      "execution_count": 6,
      "outputs": [
        {
          "output_type": "stream",
          "name": "stdout",
          "text": [
            "Ejemplo: 1-5*8+6/2 = -36\n",
            "Ejemplo: 1-4*9+6/3 = -33\n",
            "Expresión ejemplo: 4+2-6/3*1 Resultado: 4.0\n",
            "Valor mínimo: -69 Valor máximo: 77 Cobertura total: True\n"
          ]
        }
      ]
    },
    {
      "cell_type": "markdown",
      "metadata": {
        "id": "eTFWUJQrtGcv"
      },
      "source": [
        "Enumera las referencias que has utilizado(si ha sido necesario) para llevar a cabo el trabajo"
      ]
    },
    {
      "cell_type": "markdown",
      "metadata": {
        "id": "YKQ_mRBttWsP"
      },
      "source": [
        "Respuesta"
      ]
    },
    {
      "cell_type": "markdown",
      "metadata": {
        "id": "kAkDPUyRtYyH"
      },
      "source": [
        "Describe brevemente las lineas de como crees que es posible avanzar en el estudio del problema. Ten en cuenta incluso posibles variaciones del problema y/o variaciones al alza del tamaño"
      ]
    },
    {
      "cell_type": "markdown",
      "metadata": {
        "id": "IE0uZmo-tZu-"
      },
      "source": [
        "Se podrían usar otros algoritmos como:\n",
        "\n",
        "\n",
        "*   Branch and Bound: explora el árbol de combinaciones y poda ramas cuando no pueden mejorar la solución.\n",
        "*   Programación dinámica: reutiliza resultados de subexpresiones para evitar cálculos repertidos.\n"
      ]
    }
  ]
}